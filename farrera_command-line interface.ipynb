{
 "cells": [
  {
   "cell_type": "code",
   "execution_count": null,
   "id": "aba9a82d",
   "metadata": {},
   "outputs": [],
   "source": []
  },
  {
   "cell_type": "code",
   "execution_count": null,
   "id": "7ff5dbf5",
   "metadata": {},
   "outputs": [],
   "source": [
    "import argparse\n",
    "import pandas as pd\n",
    "import matplotlib.pyplot as plt"
   ]
  },
  {
   "cell_type": "code",
   "execution_count": null,
   "id": "683bf36a",
   "metadata": {},
   "outputs": [],
   "source": [
    "\n",
    "use_abn = pd.read_csv('airbnb.csv')  \n",
    "\n",
    "def top_rated_listings(n, min_nights, instant_bookable):\n",
    " \n",
    " def plot_response_rate_vs_time():\n",
    "  \n",
    "  def airbnbs_in_dublin_with_cleanliness_rating(min_cleanliness_rating):\n",
    "   \n",
    "   def cleanliness_ratings_for_listings(start_index, end_index):\n",
    "    \n",
    "\n",
    "     if __name__ == \"__main__\":\n",
    "       parser = argparse.ArgumentParser(description=\"Airbnb Data Analysis CLI\")\n",
    "\n",
    "     parser.add_argument(\"query\", type=str, help=\"Specify the analysis query\")\n",
    "\n",
    "     args = parser.parse_args()\n",
    "\n",
    "     if args.query == \"top_rated_listings\":\n",
    "        top_rated_listings(n=10, min_nights=8, instant_bookable=True)\n",
    "\n",
    "     elif args.query == \"plot_response_rate_vs_time\":\n",
    "        plot_response_rate_vs_time()\n",
    "\n",
    "     elif args.query == \"airbnbs_in_dublin_with_cleanliness_rating\":\n",
    "        airbnbs_in_dublin_with_cleanliness_rating(min_cleanliness_rating=4.0)\n",
    "\n",
    "     elif args.query == \"cleanliness_ratings_for_listings\":\n",
    "        cleanliness_ratings_for_listings(start_index=12, end_index=15)\n",
    "\n",
    "     else:\n",
    "        print(\"Invalid query. Please provide a valid analysis query.\")\n"
   ]
  },
  {
   "cell_type": "code",
   "execution_count": null,
   "id": "5a5f569f",
   "metadata": {},
   "outputs": [],
   "source": []
  },
  {
   "cell_type": "code",
   "execution_count": null,
   "id": "6cb86be0",
   "metadata": {},
   "outputs": [],
   "source": []
  }
 ],
 "metadata": {
  "kernelspec": {
   "display_name": "Python 3 (ipykernel)",
   "language": "python",
   "name": "python3"
  },
  "language_info": {
   "codemirror_mode": {
    "name": "ipython",
    "version": 3
   },
   "file_extension": ".py",
   "mimetype": "text/x-python",
   "name": "python",
   "nbconvert_exporter": "python",
   "pygments_lexer": "ipython3",
   "version": "3.11.4"
  }
 },
 "nbformat": 4,
 "nbformat_minor": 5
}
